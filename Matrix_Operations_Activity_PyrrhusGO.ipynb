{
 "cells": [
  {
   "cell_type": "code",
   "execution_count": 29,
   "id": "3e2cfc91-35d6-47b6-81c4-8012ef5a366e",
   "metadata": {},
   "outputs": [],
   "source": [
    "import numpy as np"
   ]
  },
  {
   "cell_type": "code",
   "execution_count": 30,
   "id": "f3e8fc93-6269-42d5-a660-c71c74c31225",
   "metadata": {},
   "outputs": [
    {
     "name": "stdout",
     "output_type": "stream",
     "text": [
      "Matrix A:\n",
      "[[1 2 3]\n",
      " [1 2 3]]\n"
     ]
    }
   ],
   "source": [
    "A = np.array([[1,2,3],[1,2,3]])\n",
    "print(\"Matrix A:\")\n",
    "print(A)"
   ]
  },
  {
   "cell_type": "code",
   "execution_count": 31,
   "id": "3d0e4e64-ff73-4caf-9d73-1f42412ad9c1",
   "metadata": {},
   "outputs": [
    {
     "name": "stdout",
     "output_type": "stream",
     "text": [
      "Zero Matrix:\n",
      "[[0. 0. 0.]\n",
      " [0. 0. 0.]\n",
      " [0. 0. 0.]]\n",
      "Identity Matrix:\n",
      "[[1. 0. 0.]\n",
      " [0. 1. 0.]\n",
      " [0. 0. 1.]]\n"
     ]
    }
   ],
   "source": [
    "# 3x3 Zero Matrix\n",
    "zero_matrix = np.zeros((3, 3))\n",
    "print(\"Zero Matrix:\")\n",
    "print(zero_matrix)\n",
    "# 3x3 Identity Matrix\n",
    "identity_matrix = np.eye(3)\n",
    "print(\"Identity Matrix:\")\n",
    "print(identity_matrix)"
   ]
  },
  {
   "cell_type": "code",
   "execution_count": 32,
   "id": "d9c4d5c0-4313-4af6-b60c-e1ee8ac66bb1",
   "metadata": {},
   "outputs": [
    {
     "name": "stdout",
     "output_type": "stream",
     "text": [
      "B + C:\n",
      "[[ 6  8]\n",
      " [10 12]]\n",
      "B - C:\n",
      "[[-4 -4]\n",
      " [-4 -4]]\n"
     ]
    }
   ],
   "source": [
    "B = np.array([[1, 2], [3, 4]])\n",
    "C = np.array([[5, 6], [7, 8]])\n",
    "# Matrix Addition\n",
    "addition_result = B + C\n",
    "print(\"B + C:\")\n",
    "print(addition_result)\n",
    "# Matrix Subtraction\n",
    "subtraction_result = B - C\n",
    "print(\"B - C:\")\n",
    "print(subtraction_result)"
   ]
  },
  {
   "cell_type": "code",
   "execution_count": 33,
   "id": "4d03fc0e-6154-4a14-a016-ab034fb8cb4a",
   "metadata": {},
   "outputs": [
    {
     "name": "stdout",
     "output_type": "stream",
     "text": [
      "Addition:\n",
      "[[   5    7    9  557  780  122  772 7688 6663  799]\n",
      " [   5    7    9  557  780  122  772 7688 6663  799]\n",
      " [   9  353   16   51  174    9   89  133  323  110]\n",
      " [ 236   66  988   13  461 1201   15  121   64   36]\n",
      " [  24   86   10   64 1092 1346    8   46  112   88]\n",
      " [ 588  112   55   77   38   92   79  690  899  164]\n",
      " [ 125  689  550   11  103  674  611  813  279  118]\n",
      " [  30   51  554   51   81  769   54  166  145   77]\n",
      " [ 558  101  464   41  490  521   30  687   40   69]\n",
      " [ 366  378  577   48    9  672  624  814  912  152]]\n",
      "Subtraction:\n",
      "[[   -3    -3    -3  -131  -312   -10  -762  7678  6651  -669]\n",
      " [    3     3     3   131   312    10   762 -7678 -6651   669]\n",
      " [    5  -337     2    39   -22    -5     3    43  -145   -20]\n",
      " [  190   -20  -102     1   451  -333    -1   -35   -48   -28]\n",
      " [    0     0     0     0     0     0     0     0     0     0]\n",
      " [ -102   -44    13     9   -30   -82    33  -598   835    34]\n",
      " [ -121     1  -536     1    93  -660  -525  -723   189    12]\n",
      " [   16    35   536   -39   -71   765   -38   -10   -33   -13]\n",
      " [  132    55  -422    27  -422  -347    16   601    24    61]\n",
      " [ -120   310   509   -38     1   662   512   722  -822   -46]]\n"
     ]
    }
   ],
   "source": [
    "c = np.array([[1,2,3,213,234,56,5,763,667,65],\n",
    "              [4,5,6,344,546,66,767,5,6,734],\n",
    "              [7,8,9,45,76,2,46,88,89,45],\n",
    "              [213,23,443,7,456,434,7,43,8,4],\n",
    "              [12,43,5,32,546,673,4,23,56,44],\n",
    "              [243,34,34,43,4,5,56,46,867,99],\n",
    "              [2,345,7,6,98,7,43,45,234,65],\n",
    "              [23,43,545,6,5,767,8,78,56,32],\n",
    "              [345,78,21,34,34,87,23,644,32,65],\n",
    "              [123,344,543,5,5,667,568,768,45,53]])\n",
    "b =  np.array([[4,5,6,344,546,66,767,5,6,734],\n",
    "                [1,2,3,213,234,56,5,7683,6657,65],\n",
    "                [2,345,7,6,98,7,43,45,234,65],\n",
    "                [23,43,545,6,5,767,8,78,56,32],\n",
    "                [12,43,5,32,546,673,4,23,56,44],\n",
    "              [345,78,21,34,34,87,23,644,32,65],\n",
    "              [123,344,543,5,5,667,568,768,45,53],\n",
    "              [7,8,9,45,76,2,46,88,89,45],\n",
    "               [213,23,443,7,456,434,7,43,8,4],\n",
    "              [243,34,34,43,4,5,56,46,867,99],])\n",
    "\n",
    "print(\"Addition:\\n\" + str(c+b))\n",
    "print(\"Subtraction:\\n\" + str(c-b))"
   ]
  },
  {
   "cell_type": "code",
   "execution_count": 34,
   "id": "ca0010cd-87b8-4094-b135-0c81d831ab7c",
   "metadata": {},
   "outputs": [
    {
     "name": "stdout",
     "output_type": "stream",
     "text": [
      "Multiplication:\n",
      "[[1515171  243138 3141587  406612 3751826 3234088  411331 1042751  834469\n",
      "   400874]\n",
      " [ 311283  334500  635817   59921  315909 1155507  486837  744117  758051\n",
      "   156539]\n",
      " [  38857   28620   91803   13684   96047  156519   39825  117419  111873\n",
      "    22366]\n",
      " [ 160962  210779   27525  112417  435828  376709  200631  497927  305541\n",
      "   237864]\n",
      " [ 262847   83563   63222   57202  365742  481026   33739  788648  382220\n",
      "    86548]\n",
      " [ 219774   58363  443627  104270  546059  468505  234025  359524  337927\n",
      "   202966]\n",
      " [  75337   30877  134629   84298  246883  221318   35933 2708226 2368530\n",
      "    40982]\n",
      " [ 287272  254277   54426   51933  136500  112393   69316  866428  474573\n",
      "   112695]\n",
      " [  62653   34846   57649  171784  294283  114656  314869  740108  647784\n",
      "   304666]\n",
      " [ 329916  445467  359401  181704  308241  496599  496046 3606236 2579935\n",
      "   261763]]\n"
     ]
    }
   ],
   "source": [
    "print(\"Multiplication:\\n\" + str(np.dot(c,b)))"
   ]
  },
  {
   "cell_type": "code",
   "execution_count": 35,
   "id": "c378a7d8-5cde-4d5b-b2c6-47e52a511cb6",
   "metadata": {},
   "outputs": [
    {
     "name": "stdout",
     "output_type": "stream",
     "text": [
      "Element wise:\n",
      "[[     4     10     18  73272 127764   3696   3835  38415  39942  47710]\n",
      " [     4     10     18  73272 127764   3696   3835  38415  39942  47710]\n",
      " [    14   2760     63    270   7448     14   1978   3960  20826   2925]\n",
      " [  4899    989 241435     42   2280 332878     56   3354    448    128]\n",
      " [   144   1849     25   1024 298116 452929     16    529   3136   1936]\n",
      " [ 83835   2652    714   1462    136    435   1288  29624  27744   6435]\n",
      " [   246 118680   3801     30    490   4669  24424  34560  10530   3445]\n",
      " [   161    344   4905    270    380   1534    368   6864   4984   1440]\n",
      " [ 73485   1794   9303    238  15504  37758    161  27692    256    260]\n",
      " [ 29889  11696  18462    215     20   3335  31808  35328  39015   5247]]\n"
     ]
    }
   ],
   "source": [
    "print(\"Element wise:\\n\" + str(c*b))"
   ]
  },
  {
   "cell_type": "code",
   "execution_count": 36,
   "id": "95d3da56-e56c-4c96-94d7-6cdc8b9a39bc",
   "metadata": {},
   "outputs": [
    {
     "name": "stdout",
     "output_type": "stream",
     "text": [
      "Transpose:\n",
      "[[   1    4    7  213   12  243    2   23  345  123]\n",
      " [   2    5    8   23   43   34  345   43   78  344]\n",
      " [   3    6    9  443    5   34    7  545   21  543]\n",
      " [ 213  344   45    7   32   43    6    6   34    5]\n",
      " [ 234  546   76  456  546    4   98    5   34    5]\n",
      " [  56   66    2  434  673    5    7  767   87  667]\n",
      " [   5  767   46    7    4   56   43    8   23  568]\n",
      " [7683    5   88   43   23   46   45   78  644  768]\n",
      " [6657    6   89    8   56  867  234   56   32   45]\n",
      " [  65  734   45    4   44   99   65   32   65   53]]\n"
     ]
    }
   ],
   "source": [
    "print(\"Transpose:\\n\" + str(c.T))"
   ]
  },
  {
   "cell_type": "markdown",
   "id": "7cda91d6-ce51-4113-b3b0-bedc015886a4",
   "metadata": {},
   "source": [
    "## 1. Matrix creation and structure - create a 2x3 matrix"
   ]
  },
  {
   "cell_type": "code",
   "execution_count": 49,
   "id": "560945ca-a061-4a19-a62a-44241375ec41",
   "metadata": {},
   "outputs": [
    {
     "name": "stdout",
     "output_type": "stream",
     "text": [
      "[[1 2 3]\n",
      " [4 5 6]]\n"
     ]
    }
   ],
   "source": [
    "mt = np.array([[1,2,3],[4,5,6]])\n",
    "print(mt)"
   ]
  },
  {
   "cell_type": "markdown",
   "id": "45303f40-5bd0-4e08-9d9c-4d210900dc4b",
   "metadata": {},
   "source": [
    "## 2. Basic Matrix Operation\n",
    "- the requirment of the addition is that the two matrices are equal in size while on multiplication, the first matrix's column is the same with the second matrix's row"
   ]
  },
  {
   "cell_type": "code",
   "execution_count": 56,
   "id": "fc4bf474-2657-4190-95ed-0e979ee534c7",
   "metadata": {},
   "outputs": [
    {
     "name": "stdout",
     "output_type": "stream",
     "text": [
      "Multiplication:\n",
      "[[ 564651   81382  126551  253155  115228]\n",
      " [ 545927   57656 5910766 5148925  131112]\n",
      " [ 101872    6440  365365  334330   15006]\n",
      " [  92814  352599 3340555 2896368  365097]\n",
      " [ 117367  517824   40512   41648  499465]]\n",
      "Addition:\n",
      "[[ 122  772  768  673  799]\n",
      " [ 122  772 7688 6663  799]\n",
      " [   9   89  133  323  110]\n",
      " [1223  442   85   99   40]\n",
      " [1346    8   46  112   88]]\n"
     ]
    }
   ],
   "source": [
    "f = np.array([[56,5,763,667,65],\n",
    "              [66,767,5,6,734],\n",
    "              [2,46,88,89,45],\n",
    "              [456,434,7,43,8],\n",
    "              [673,4,23,56,44]])\n",
    "g = np.array([[66,767,5,6,734],\n",
    "                [56,5,7683,6657,65],\n",
    "                [7,43,45,234,65],\n",
    "                [767,8,78,56,32],\n",
    "                [673,4,23,56,44]])\n",
    "print(\"Multiplication:\\n\"+str(f.dot(g)))\n",
    "print(\"Addition:\\n\"+str(f+g))"
   ]
  },
  {
   "cell_type": "markdown",
   "id": "25c8548e-a2e9-4a53-a5c1-bed12568b609",
   "metadata": {},
   "source": [
    "## 3. Transpose of Matrix\n",
    "Transpose matrix will turn the column into rows vice versa\n",
    "For example in 3x2 matrix, the size of the matrix will turn in a 2x3 matrix"
   ]
  },
  {
   "cell_type": "code",
   "execution_count": 59,
   "id": "b139dc89-ae6c-476f-a322-074c1583d0b6",
   "metadata": {},
   "outputs": [
    {
     "name": "stdout",
     "output_type": "stream",
     "text": [
      "Normal 3x2 matrix:\n",
      "[[1 2 3]\n",
      " [4 5 6]]\n",
      "Transposed 3x2 matrix:\n",
      "[[1 4]\n",
      " [2 5]\n",
      " [3 6]]\n"
     ]
    }
   ],
   "source": [
    "mt = np.array([[1,2,3],[4,5,6]])\n",
    "print(\"Normal 3x2 matrix:\\n\"+ str(mt))\n",
    "print(\"Transposed 3x2 matrix:\\n\"+ str(mt.T))"
   ]
  },
  {
   "cell_type": "markdown",
   "id": "60f3c3fe-d051-45f0-9075-a3455a6f4976",
   "metadata": {},
   "source": [
    "## 4. Working with Large Matrices"
   ]
  },
  {
   "cell_type": "code",
   "execution_count": 66,
   "id": "062f59eb-fafd-4755-916e-4a29fd771cab",
   "metadata": {},
   "outputs": [
    {
     "name": "stdout",
     "output_type": "stream",
     "text": [
      "Sum of matrix: 5152\n",
      "Transposed matrix:\n",
      "[[ 56  66   2 456 673]\n",
      " [  5 767  46 434   4]\n",
      " [763   5  88   7  23]\n",
      " [667   6  89  43  56]\n",
      " [ 65 734  45   8  44]]\n"
     ]
    }
   ],
   "source": [
    "\n",
    "print(\"Sum of matrix: \"+str(np.sum(f)))\n",
    "print(\"Transposed matrix:\\n\"+str(f.T))"
   ]
  },
  {
   "cell_type": "markdown",
   "id": "738b8f52-e0ee-445d-96af-f4018d87aa3f",
   "metadata": {},
   "source": [
    "## 5. "
   ]
  },
  {
   "cell_type": "code",
   "execution_count": 69,
   "id": "6279ccf2-4448-4c8d-b9c0-99714746663a",
   "metadata": {},
   "outputs": [
    {
     "name": "stdout",
     "output_type": "stream",
     "text": [
      "a. [[   5    7    9  557  780  122  772  768  673  799]\n",
      " [   5    7    9  557  780  122  772 7688 6663  799]\n",
      " [   9  353   16   51  174    9   89  133  323  110]\n",
      " [ 236   66  988   13  461 1201   15  121   64   36]\n",
      " [  24   86   10   64 1092 1346    8   46  112   88]\n",
      " [ 588  112   55   77   38   92   79  690  899  164]\n",
      " [ 125  689  550   11  103  674  611  813  279  118]\n",
      " [  30   51  554   51   81  769   54  166  145   77]\n",
      " [ 558  101  464   41  490  521   30  687   40   69]\n",
      " [ 366  378  577   48    9  672  624  814  912  152]]\n",
      "b. [[   3    3    3  131  312   10  762 -758 -661  669]\n",
      " [  -3   -3   -3 -131 -312  -10 -762 7678 6651 -669]\n",
      " [  -5  337   -2  -39   22    5   -3  -43  145   20]\n",
      " [-190   20  102   -1 -451  333    1   35   48   28]\n",
      " [   0    0    0    0    0    0    0    0    0    0]\n",
      " [ 102   44  -13   -9   30   82  -33  598 -835  -34]\n",
      " [ 121   -1  536   -1  -93  660  525  723 -189  -12]\n",
      " [ -16  -35 -536   39   71 -765   38   10   33   13]\n",
      " [-132  -55  422  -27  422  347  -16 -601  -24  -61]\n",
      " [ 120 -310 -509   38   -1 -662 -512 -722  822   46]]\n",
      "c. [[ 190861   50008  425737   53282  494466  620588   51081  176221  170669\n",
      "    65514]\n",
      " [ 311283  334500  635817   59921  315909 1155507  486837  744117  758051\n",
      "   156539]\n",
      " [  38857   28620   91803   13684   96047  156519   39825  117419  111873\n",
      "    22366]\n",
      " [ 160962  210779   27525  112417  435828  376709  200631  497927  305541\n",
      "   237864]\n",
      " [ 262847   83563   63222   57202  365742  481026   33739  788648  382220\n",
      "    86548]\n",
      " [ 219774   58363  443627  104270  546059  468505  234025  359524  337927\n",
      "   202966]\n",
      " [  75337   30877  134629   84298  246883  221318   35933 2708226 2368530\n",
      "    40982]\n",
      " [ 287272  254277   54426   51933  136500  112393   69316  866428  474573\n",
      "   112695]\n",
      " [  62653   34846   57649  171784  294283  114656  314869  740108  647784\n",
      "   304666]\n",
      " [ 329916  445467  359401  181704  308241  496599  496046 3606236 2579935\n",
      "   261763]]\n"
     ]
    }
   ],
   "source": [
    "D = np.array([[1,2,3,213,234,56,5,763,667,65],\n",
    "              [4,5,6,344,546,66,767,5,6,734],\n",
    "              [7,8,9,45,76,2,46,88,89,45],\n",
    "              [213,23,443,7,456,434,7,43,8,4],\n",
    "              [12,43,5,32,546,673,4,23,56,44],\n",
    "              [243,34,34,43,4,5,56,46,867,99],\n",
    "              [2,345,7,6,98,7,43,45,234,65],\n",
    "              [23,43,545,6,5,767,8,78,56,32],\n",
    "              [345,78,21,34,34,87,23,644,32,65],\n",
    "              [123,344,543,5,5,667,568,768,45,53]])\n",
    "E =  np.array([[4,5,6,344,546,66,767,5,6,734],\n",
    "                [1,2,3,213,234,56,5,7683,6657,65],\n",
    "                [2,345,7,6,98,7,43,45,234,65],\n",
    "                [23,43,545,6,5,767,8,78,56,32],\n",
    "                [12,43,5,32,546,673,4,23,56,44],\n",
    "              [345,78,21,34,34,87,23,644,32,65],\n",
    "              [123,344,543,5,5,667,568,768,45,53],\n",
    "              [7,8,9,45,76,2,46,88,89,45],\n",
    "               [213,23,443,7,456,434,7,43,8,4],\n",
    "              [243,34,34,43,4,5,56,46,867,99],])\n",
    "\n",
    "print(\"a. \"+ str(D+E))\n",
    "print(\"b. \"+ str(E-D))\n",
    "print(\"c. \"+ str(D.dot(E)))"
   ]
  },
  {
   "cell_type": "markdown",
   "id": "7a522d29-9ac7-4675-ba62-dcc5aa2c8914",
   "metadata": {},
   "source": [
    "The matrix operation that can be applied in Computer Science is all of it. Because the basic operation of the matrix can be used in the GPU or Graphical Processing Unit. The calculation of graphics requires matrices. And when solving matrixes we need GPU. Why use GPU instead of CPU, CPU can handle small process but fast and the GPU is the opposite of CPU. In GPU, there is a CUDA cores that are responsible for the process. GPU can handle multiple process via matrix computations, like all processes are working in paralell."
   ]
  },
  {
   "cell_type": "code",
   "execution_count": null,
   "id": "288f04a5-19f8-4fb5-8249-6081ba1b41a8",
   "metadata": {},
   "outputs": [],
   "source": []
  }
 ],
 "metadata": {
  "kernelspec": {
   "display_name": "Python 3 (ipykernel)",
   "language": "python",
   "name": "python3"
  },
  "language_info": {
   "codemirror_mode": {
    "name": "ipython",
    "version": 3
   },
   "file_extension": ".py",
   "mimetype": "text/x-python",
   "name": "python",
   "nbconvert_exporter": "python",
   "pygments_lexer": "ipython3",
   "version": "3.12.4"
  }
 },
 "nbformat": 4,
 "nbformat_minor": 5
}
