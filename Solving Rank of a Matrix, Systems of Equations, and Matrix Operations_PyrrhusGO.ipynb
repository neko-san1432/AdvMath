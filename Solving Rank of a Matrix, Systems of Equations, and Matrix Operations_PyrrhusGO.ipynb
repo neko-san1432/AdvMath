{
 "cells": [
  {
   "cell_type": "markdown",
   "id": "43c5338e-bd11-4191-b3e4-6cd16640cd96",
   "metadata": {},
   "source": [
    "## Problem no. 1"
   ]
  },
  {
   "cell_type": "code",
   "execution_count": 10,
   "id": "691e6750-657c-4282-9f4c-d0985cbe7a9a",
   "metadata": {},
   "outputs": [
    {
     "name": "stdout",
     "output_type": "stream",
     "text": [
      "Rank of matrix A: 2\n"
     ]
    }
   ],
   "source": [
    "#Initialize the matrix\n",
    "A = np.array([[1,2,0,4],[3,6,0,8],[5,10,0,12],[7,14,0,16]])\n",
    "\n",
    "#Store the rank value\n",
    "rank = np.linalg.matrix_rank(A)\n",
    "\n",
    "#Print the rank value\n",
    "print(f\"Rank of matrix A: {rank}\")"
   ]
  },
  {
   "cell_type": "markdown",
   "id": "7e2b6e7f-ce18-44b2-96f0-b3e3ee8d7fb8",
   "metadata": {},
   "source": [
    "## Problem no. 2"
   ]
  },
  {
   "cell_type": "code",
   "execution_count": 12,
   "id": "002b1f32-c412-4fa4-82d9-619de5075961",
   "metadata": {},
   "outputs": [
    {
     "name": "stdout",
     "output_type": "stream",
     "text": [
      "Result: \n",
      "[0.5 0.5 5. ]\n"
     ]
    }
   ],
   "source": [
    "#Create a coefficient matrix and a constant vector matrix\n",
    "a = np.array([[1,1,1],[2,4,3],[0,0,1]])\n",
    "b = np.array([6,18,5])\n",
    "\n",
    "#Check whether the determinant of the coefficient matrix is 0 or not\n",
    "if np.linalg.det(a) != 0:\n",
    "    \n",
    "    #Store the value of the vector of the unknowns matrix\n",
    "    x = np.linalg.inv(a).dot(b)\n",
    "    \n",
    "    #print the matrix\n",
    "    print(\"Result: \\n\"+str(x))\n",
    "else:\n",
    "    #Print this statement when the first condition didn't meet\n",
    "    print(\"Matrix a is not invertible, no unique solution.\")"
   ]
  },
  {
   "cell_type": "markdown",
   "id": "80b19447-9365-4793-8f05-be2e30df2105",
   "metadata": {},
   "source": [
    "## Problem no. 3"
   ]
  },
  {
   "cell_type": "code",
   "execution_count": 14,
   "id": "ffa53b68-fe77-4531-b708-8dc2cea92975",
   "metadata": {},
   "outputs": [
    {
     "name": "stdout",
     "output_type": "stream",
     "text": [
      "Result: \n",
      "[-2.75  3.75  1.75  7.25]\n"
     ]
    }
   ],
   "source": [
    "#Create a coefficient matrix and a constant vector matrix\n",
    "a = np.array([[1,1,1,1],[2,1,0,3],[4,3,2,1],[3,0,5,2]])\n",
    "b = np.array([10,20,11,15])\n",
    "\n",
    "#Check whether the determinant of the coefficient matrix is 0 or not\n",
    "if np.linalg.det(a) != 0:\n",
    "    \n",
    "    #Store the value of the vector of the unknowns matrix\n",
    "    x = np.linalg.inv(a).dot(b)\n",
    "    \n",
    "    #print the matrix\n",
    "    print(\"Result: \\n\"+str(x))\n",
    "else:\n",
    "    #Print this statement when the first condition didn't meet\n",
    "    print(\"Matrix a is not invertible, no unique solution.\")"
   ]
  },
  {
   "cell_type": "code",
   "execution_count": null,
   "id": "4f4b9cec-57fe-4460-82f4-11371029ce1a",
   "metadata": {},
   "outputs": [],
   "source": []
  }
 ],
 "metadata": {
  "kernelspec": {
   "display_name": "Python 3 (ipykernel)",
   "language": "python",
   "name": "python3"
  },
  "language_info": {
   "codemirror_mode": {
    "name": "ipython",
    "version": 3
   },
   "file_extension": ".py",
   "mimetype": "text/x-python",
   "name": "python",
   "nbconvert_exporter": "python",
   "pygments_lexer": "ipython3",
   "version": "3.12.4"
  }
 },
 "nbformat": 4,
 "nbformat_minor": 5
}
