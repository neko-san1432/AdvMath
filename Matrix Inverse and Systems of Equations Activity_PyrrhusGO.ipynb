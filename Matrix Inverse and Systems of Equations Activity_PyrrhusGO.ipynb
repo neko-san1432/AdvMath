{
 "cells": [
  {
   "cell_type": "code",
   "execution_count": 40,
   "id": "90b9fb32-891d-40b7-a328-ad91d36e8df0",
   "metadata": {},
   "outputs": [],
   "source": [
    "import numpy as np"
   ]
  },
  {
   "cell_type": "markdown",
   "id": "10f2b47a-aace-441f-9083-ce88c8f41777",
   "metadata": {},
   "source": [
    "# Practice"
   ]
  },
  {
   "cell_type": "markdown",
   "id": "018d11bd-a9b7-44d2-b1ec-9f75134a298f",
   "metadata": {},
   "source": [
    "## Problem no. 1"
   ]
  },
  {
   "cell_type": "code",
   "execution_count": 43,
   "id": "6e25a45f-5d56-481b-b644-4620dc015455",
   "metadata": {},
   "outputs": [
    {
     "name": "stdout",
     "output_type": "stream",
     "text": [
      "The inverse of matrix b is: \n",
      "\n",
      "[[ 0.71428571 -0.57142857]\n",
      " [-0.28571429  0.42857143]]\n"
     ]
    }
   ],
   "source": [
    "#Create a square matrix\n",
    "b = np.array([[3, 4],[2,5]])\n",
    "\n",
    "#Check whether the determinant is 0 or not\n",
    "if np.linalg.det(b) != 0:\n",
    "    #Store the value of the inversed matrix\n",
    "    x = np.linalg.inv(b)\n",
    "\n",
    "    #print the matrix\n",
    "    print(\"The inverse of matrix b is: \\n\")\n",
    "    print(x)\n",
    "else:\n",
    "    #Print this statement when the first condition didn't meet\n",
    "    print(\"Matrix b is not invertible, no unique solution.\")"
   ]
  },
  {
   "cell_type": "markdown",
   "id": "47bc1868-7b71-4f1e-8357-2a79fe58c88c",
   "metadata": {},
   "source": [
    "## Problem no. 2"
   ]
  },
  {
   "cell_type": "code",
   "execution_count": 45,
   "id": "9f61f02c-09c6-494e-8c9d-b58d3903c04a",
   "metadata": {},
   "outputs": [
    {
     "name": "stdout",
     "output_type": "stream",
     "text": [
      "[1.57142857 1.28571429]\n"
     ]
    }
   ],
   "source": [
    "#Create a coefficient matrix and a constant vector matrix\n",
    "a = np.array([[2,3],[4,-1]])\n",
    "b = np.array([7,5])\n",
    "\n",
    "#Check whether the determinant of the coefficient matrix is 0 or not\n",
    "if np.linalg.det(a) != 0:\n",
    "    #Store the value of the vector of the unknowns matrix\n",
    "    x = np.linalg.inv(a).dot(b)\n",
    "    \n",
    "    #print the matrix\n",
    "    print(x)\n",
    "else:\n",
    "    #Print this statement when the first condition didn't meet\n",
    "    print(\"Matrix a is not invertible, no unique solution.\")\n",
    "\n"
   ]
  },
  {
   "cell_type": "markdown",
   "id": "32df27fd-de8d-4683-9147-a1ee46b45d57",
   "metadata": {},
   "source": [
    "## Problem no. 3"
   ]
  },
  {
   "cell_type": "code",
   "execution_count": 47,
   "id": "282a6c5d-5e75-41a1-ac2a-8d925a3ba3d8",
   "metadata": {},
   "outputs": [
    {
     "name": "stdout",
     "output_type": "stream",
     "text": [
      "[[-24.  18.   5.]\n",
      " [ 20. -15.  -4.]\n",
      " [ -5.   4.   1.]]\n"
     ]
    }
   ],
   "source": [
    "#Create a square matrix\n",
    "a = np.array([[1,2,3],[0,1,4],[5,6,0]])\n",
    "\n",
    "#Check whether the determinant of the matrix is 0 or not\n",
    "if np.linalg.det(a) != 0:\n",
    "    #Store the inversed matrix\n",
    "    x = np.linalg.inv(a)\n",
    "\n",
    "    #Print the inversed matrix\n",
    "    print(x)\n",
    "else:\n",
    "    #Print this statement when the first condition didn't meet\n",
    "    print(\"Matrix a is not invertible, no unique solution.\")"
   ]
  },
  {
   "cell_type": "markdown",
   "id": "25ff2b7a-6c3e-46f8-b0dd-fb5bd39c74f5",
   "metadata": {},
   "source": [
    "## Problem no. 4"
   ]
  },
  {
   "cell_type": "code",
   "execution_count": 49,
   "id": "92738ee3-0252-4908-a2ed-0bb999acc567",
   "metadata": {},
   "outputs": [
    {
     "name": "stdout",
     "output_type": "stream",
     "text": [
      "[10.84210526 -5.21052632  0.36842105]\n"
     ]
    }
   ],
   "source": [
    "#Create a coefficient matrix and a constant vector matrix\n",
    "a = np.array([[1,1,1],[2,5,1],[2,3,8]])\n",
    "b = np.array([6,-4,9])\n",
    "\n",
    "#Check whether the determinant of the coefficient matrix is 0 or not\n",
    "if np.linalg.det(a) != 0:\n",
    "    #Store the value of the vector of the unknowns matrix\n",
    "    x = np.linalg.inv(a).dot(b)\n",
    "\n",
    "    #print the value of the vector of the unknowns matrix\n",
    "    print(x)\n",
    "else:\n",
    "    #Print this statement when the first condition didn't meet\n",
    "    print(\"Matrix a is not invertible, no unique solution.\")"
   ]
  },
  {
   "cell_type": "markdown",
   "id": "748504f7-6346-47c0-879d-1089b5e8f2d8",
   "metadata": {},
   "source": [
    "## Problem no. 5"
   ]
  },
  {
   "cell_type": "code",
   "execution_count": 51,
   "id": "e24f6c3a-ccc5-4f5f-8102-e8f7fc376c13",
   "metadata": {},
   "outputs": [
    {
     "name": "stdout",
     "output_type": "stream",
     "text": [
      "[  2.6   5.4 -14.4]\n"
     ]
    }
   ],
   "source": [
    "#Create a coefficient matrix and a constant vector matrix\n",
    "a = np.array([[4,-1,0],[3,5,2],[-2,4,1]])\n",
    "b = np.array([5,6,2])\n",
    "if np.linalg.det(a) != 0:\n",
    "    x = np.linalg.inv(a).dot(b)\n",
    "    print(x)\n",
    "else:\n",
    "    #Print this statement when the first condition didn't meet\n",
    "    print(\"Matrix a is not invertible, no unique solution.\")"
   ]
  },
  {
   "cell_type": "markdown",
   "id": "a6b54bd8-6d34-4028-aa89-42a185caf05e",
   "metadata": {},
   "source": [
    "## Bonus challenge"
   ]
  },
  {
   "cell_type": "code",
   "execution_count": 53,
   "id": "4ad7886b-dea5-422b-bb94-269ef9bffa7a",
   "metadata": {},
   "outputs": [
    {
     "name": "stdout",
     "output_type": "stream",
     "text": [
      "[  2.6   5.4 -14.4]\n",
      "Matrix a is not invertible, no unique solution.\n"
     ]
    }
   ],
   "source": [
    "def inverseMatrixChecker(x, y):\n",
    "    if np.linalg.det(a) != 0:\n",
    "        x = np.linalg.inv(a).dot(b)\n",
    "        print(x)\n",
    "    else:\n",
    "        #Print this statement when the first condition didn't meet\n",
    "        print(\"Matrix a is not invertible, no unique solution.\")\n",
    "\n",
    "\n",
    "a = np.array([[4,-1,0],[3,5,2],[-2,4,1]])\n",
    "b = np.array([5,6,2])\n",
    "inverseMatrixChecker(a,b)\n",
    "a = np.array([[1,2,3],[2,4,6],[3,6,9]])\n",
    "b = np.array([5,6,2])\n",
    "inverseMatrixChecker(a,b)"
   ]
  }
 ],
 "metadata": {
  "kernelspec": {
   "display_name": "Python 3 (ipykernel)",
   "language": "python",
   "name": "python3"
  },
  "language_info": {
   "codemirror_mode": {
    "name": "ipython",
    "version": 3
   },
   "file_extension": ".py",
   "mimetype": "text/x-python",
   "name": "python",
   "nbconvert_exporter": "python",
   "pygments_lexer": "ipython3",
   "version": "3.12.4"
  }
 },
 "nbformat": 4,
 "nbformat_minor": 5
}
