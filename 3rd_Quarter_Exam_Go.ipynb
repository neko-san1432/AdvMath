{
  "nbformat": 4,
  "nbformat_minor": 0,
  "metadata": {
    "colab": {
      "provenance": []
    },
    "kernelspec": {
      "name": "python3",
      "display_name": "Python 3"
    },
    "language_info": {
      "name": "python"
    }
  },
  "cells": [
    {
      "cell_type": "code",
      "source": [
        "import numpy as np"
      ],
      "metadata": {
        "id": "w1s_ARhzyhny"
      },
      "execution_count": 23,
      "outputs": []
    },
    {
      "cell_type": "markdown",
      "source": [
        "## Problem no. 1\n"
      ],
      "metadata": {
        "id": "IcntxIMPzhpF"
      }
    },
    {
      "cell_type": "code",
      "source": [
        "A = np.array([\n",
        "    [2, 1, -1],\n",
        "    [-1, 3, 2],\n",
        "    [1, -2, 4]\n",
        "])\n",
        "\n",
        "B = np.array([5, 6, 7])\n",
        "#Check whether the determinant of the coefficient matrix is 0 or not\n",
        "if np.linalg.det(A) != 0:\n",
        "\n",
        "    #Store the value of the vector of the unknowns matrix\n",
        "    x = np.linalg.inv(A).dot(B)\n",
        "\n",
        "    #print the matrix\n",
        "    print(\"Result: \\n\"+str(x))\n",
        "else:\n",
        "    #Print this statement when the first condition didn't meet\n",
        "    print(\"Matrix a is not invertible, no unique solution.\")\n"
      ],
      "metadata": {
        "colab": {
          "base_uri": "https://localhost:8080/"
        },
        "id": "roKRcNkizW4D",
        "outputId": "b6511fc4-097e-477c-d005-d1dc78bd7e19"
      },
      "execution_count": 24,
      "outputs": [
        {
          "output_type": "stream",
          "name": "stdout",
          "text": [
            "Result: \n",
            "[2.64102564 1.61538462 1.8974359 ]\n"
          ]
        }
      ]
    },
    {
      "cell_type": "markdown",
      "source": [
        "## Problem no. 2"
      ],
      "metadata": {
        "id": "bkiXTK6iyItG"
      }
    },
    {
      "cell_type": "code",
      "source": [
        "#Create a coefficient matrix and a constant vector matrix\n",
        "A = np.array([[5, 3, 1, 1, 0],[4, 6, 2, 0, 1],[2, 7, 3, 1, 0],[1, 2, 4, 5, 0],[3, 4, 5, 0, 6]])\n",
        "B = np.array([200, 300, 150, 120, 250])\n",
        "\n",
        "#Check whether the determinant of the coefficient matrix is 0 or not\n",
        "if np.linalg.det(A) != 0:\n",
        "\n",
        "    #Store the value of the vector of the unknowns matrix\n",
        "    x = np.linalg.inv(A).dot(B)\n",
        "\n",
        "    #print the matrix\n",
        "    print(\"Result: \\n\"+str(x))\n",
        "else:\n",
        "    #Print this statement when the first condition didn't meet\n",
        "    print(\"Matrix a is not invertible, no unique solution.\")"
      ],
      "metadata": {
        "colab": {
          "base_uri": "https://localhost:8080/"
        },
        "id": "0c5Fn1PTqz5p",
        "outputId": "22b85303-cd6e-4daa-91ad-a56b7a3bbe38"
      },
      "execution_count": 25,
      "outputs": [
        {
          "output_type": "stream",
          "name": "stdout",
          "text": [
            "Result: \n",
            "[ -23.86666667  137.6        -336.          242.53333333  241.86666667]\n"
          ]
        }
      ]
    },
    {
      "cell_type": "markdown",
      "source": [
        "## Problem no. 3"
      ],
      "metadata": {
        "id": "_khCsmOYymRb"
      }
    },
    {
      "cell_type": "code",
      "source": [
        "#Create a coefficient matrix and a constant vector matrix\n",
        "A = np.random.rand(7, 7)\n",
        "B = np.random.rand(7)\n",
        "\n",
        "#Check whether the determinant of the coefficient matrix is 0 or not\n",
        "if np.linalg.det(A) != 0:\n",
        "\n",
        "    #Store the value of the vector of the unknowns matrix\n",
        "    x = np.linalg.inv(A).dot(B)\n",
        "\n",
        "    #print the matrix\n",
        "    print(\"Result: \\n\"+str(x))\n",
        "else:\n",
        "    #Print this statement when the first condition didn't meet\n",
        "    print(\"Matrix a is not invertible, no unique solution.\")"
      ],
      "metadata": {
        "colab": {
          "base_uri": "https://localhost:8080/"
        },
        "id": "EQ2MTc3bq3Uq",
        "outputId": "a8248e68-0bda-471c-99b1-0ced37c17b11"
      },
      "execution_count": 26,
      "outputs": [
        {
          "output_type": "stream",
          "name": "stdout",
          "text": [
            "Result: \n",
            "[ 1.88615081  2.77147562  0.56447484  4.12291839 -2.66130647 -3.2504013\n",
            " -2.32359128]\n"
          ]
        }
      ]
    },
    {
      "cell_type": "markdown",
      "source": [
        "## Problem no. 4"
      ],
      "metadata": {
        "id": "8mG5pX-sywQd"
      }
    },
    {
      "cell_type": "code",
      "source": [
        "def solve_random_linear_system():\n",
        "    # Generate a random 5x5\n",
        "    A = np.random.rand(5, 5)\n",
        "\n",
        "    # Generate a random 5x1\n",
        "    B = np.random.rand(5)\n",
        "\n",
        "    #Check whether the determinant of the coefficient matrix is 0 or not\n",
        "    if np.linalg.det(A) != 0:\n",
        "\n",
        "        #Store the value of the vector of the unknowns matrix\n",
        "        x = np.linalg.inv(A).dot(B)\n",
        "\n",
        "        #print the matrix\n",
        "        print(\"Result: \\n\"+str(x))\n",
        "    else:\n",
        "        #Print this statement when the first condition didn't meet\n",
        "        print(\"Matrix a is not invertible, no unique solution.\")\n",
        "\n",
        "# Example usage\n",
        "solve_random_linear_system()"
      ],
      "metadata": {
        "colab": {
          "base_uri": "https://localhost:8080/"
        },
        "id": "9Bj5ntn1q6ZU",
        "outputId": "b6caa444-96cb-4811-be99-a6de5122a29c"
      },
      "execution_count": 27,
      "outputs": [
        {
          "output_type": "stream",
          "name": "stdout",
          "text": [
            "Result: \n",
            "[-0.45988203  1.0653348   0.84830965 -0.45763853  0.0407354 ]\n"
          ]
        }
      ]
    },
    {
      "cell_type": "markdown",
      "source": [
        "## Problem no. 5"
      ],
      "metadata": {
        "id": "NCr7G2TmyxF4"
      }
    },
    {
      "cell_type": "code",
      "source": [
        "def solve_linear_system(A, B):\n",
        "    #Check whether the determinant of the coefficient matrix is 0 or not\n",
        "    if np.linalg.det(A) != 0:\n",
        "\n",
        "        #Store the value of the vector of the unknowns matrix\n",
        "        x = np.linalg.inv(A).dot(B)\n",
        "\n",
        "        #print the matrix\n",
        "        print(\"Result: \\n\"+str(x))\n",
        "    else:\n",
        "        #Print this statement when the first condition didn't meet\n",
        "        print(\"Matrix a is not invertible, no unique solution.\")\n",
        "\n",
        "\n",
        "A1 = np.array([[2, 1, -1],[-1, 3, 2],[1, -2, 4]])\n",
        "B1 = np.array([5, 6, 7])\n",
        "solve_linear_system(A1, B1)"
      ],
      "metadata": {
        "colab": {
          "base_uri": "https://localhost:8080/"
        },
        "id": "YTopFQUbrODj",
        "outputId": "434d01c2-873e-4440-f28b-b8907ee9c7f6"
      },
      "execution_count": 28,
      "outputs": [
        {
          "output_type": "stream",
          "name": "stdout",
          "text": [
            "Result: \n",
            "[2.64102564 1.61538462 1.8974359 ]\n"
          ]
        }
      ]
    },
    {
      "cell_type": "code",
      "source": [],
      "metadata": {
        "id": "zsXIhe81rQen"
      },
      "execution_count": 28,
      "outputs": []
    }
  ]
}