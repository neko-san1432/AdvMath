{
 "cells": [
  {
   "cell_type": "code",
   "execution_count": 45,
   "id": "6c30e2bb-439c-4794-b2ab-463c5b7e8f1d",
   "metadata": {},
   "outputs": [],
   "source": [
    "import numpy as np"
   ]
  },
  {
   "cell_type": "markdown",
   "id": "347af4ce-7e2a-423e-8b0b-dd159a824bb2",
   "metadata": {},
   "source": [
    "## Practice no. 1"
   ]
  },
  {
   "cell_type": "code",
   "execution_count": 47,
   "id": "2d4e66fb-482c-40bd-aa5b-2f0603817e5a",
   "metadata": {},
   "outputs": [
    {
     "name": "stdout",
     "output_type": "stream",
     "text": [
      "Random Matrix:\n",
      " [[9 1 3 1]\n",
      " [9 5 7 6]\n",
      " [1 1 3 5]\n",
      " [7 6 7 8]]\n",
      "\n",
      "Is the random matrix symmetric?  False\n"
     ]
    }
   ],
   "source": [
    "# Your solution here\n",
    "random_matrix = np.random.randint(1, 10, (4, 4))\n",
    "transpose_random = random_matrix.T\n",
    "\n",
    "# Check symmetry\n",
    "is_symmetric_random = (random_matrix == transpose_random).all()\n",
    "print(\"Random Matrix:\\n\", random_matrix)\n",
    "print(\"\\nIs the random matrix symmetric? \", is_symmetric_random)\n"
   ]
  },
  {
   "cell_type": "markdown",
   "id": "d18a3d54-2704-400c-9e04-9be881469385",
   "metadata": {},
   "source": [
    "## section 2 q2"
   ]
  },
  {
   "cell_type": "code",
   "execution_count": 49,
   "id": "7e47ee39-f7db-4e11-bc9a-a1675d0c5bc2",
   "metadata": {},
   "outputs": [
    {
     "name": "stdout",
     "output_type": "stream",
     "text": [
      "Trace: 26\n"
     ]
    }
   ],
   "source": [
    "B = np.array([[10,20,30],[5,10,15],[2,4,6]])\n",
    "print(\"Trace: \"+ str(np.trace(B)))"
   ]
  },
  {
   "cell_type": "markdown",
   "id": "be209ba5-01b8-4988-b19c-c4888fbe06bd",
   "metadata": {},
   "source": [
    "## Practice no. 2"
   ]
  },
  {
   "cell_type": "code",
   "execution_count": 51,
   "id": "f610fbf0-b287-41f8-b167-1f8a87db9817",
   "metadata": {},
   "outputs": [
    {
     "name": "stdout",
     "output_type": "stream",
     "text": [
      "Trace: 216\n"
     ]
    }
   ],
   "source": [
    "C = np.array([[66,767,5,6,734],\n",
    "                [56,5,7683,6657,65],\n",
    "                [7,43,45,234,65],\n",
    "                [767,8,78,56,32],\n",
    "                [673,4,23,56,44]])\n",
    "print(\"Trace: \"+ str(np.trace(C)))"
   ]
  },
  {
   "cell_type": "markdown",
   "id": "5df433c9-0884-465c-905f-0bc900d24c21",
   "metadata": {},
   "source": [
    "## Practice no. 3"
   ]
  },
  {
   "cell_type": "code",
   "execution_count": 53,
   "id": "df9a2511-2ddc-46f2-a558-ba639ba5e8de",
   "metadata": {},
   "outputs": [
    {
     "name": "stdout",
     "output_type": "stream",
     "text": [
      "Determinant: 22.000000000000004\n"
     ]
    }
   ],
   "source": [
    "A = np.array([[1,2,3],[0,4,5],[1,0,6]])\n",
    "print(\"Determinant: \"+ str(np.linalg.det(A)))"
   ]
  },
  {
   "cell_type": "markdown",
   "id": "e468a68c-3e04-48f0-9bd4-ed41725ba951",
   "metadata": {},
   "source": [
    "## Practice 4"
   ]
  },
  {
   "cell_type": "code",
   "execution_count": 55,
   "id": "05ef3122-430f-49e4-a2a2-ece6835c8968",
   "metadata": {},
   "outputs": [
    {
     "name": "stdout",
     "output_type": "stream",
     "text": [
      "Product:\n",
      "[[3223 3838 3650]\n",
      " [3744 4036 3878]\n",
      " [3132 3803 3502]]\n",
      "Transpose: [[3223 3838 3650]\n",
      " [3744 4036 3878]\n",
      " [3132 3803 3502]]\n",
      "Determinant: 146790377.99999982\n"
     ]
    }
   ],
   "source": [
    "D = np.random.randint(1,20,(3,33))\n",
    "\n",
    "E = np.random.randint(1,20,(33,3))\n",
    "print(\"Product:\\n\"+str(D.dot(E)))\n",
    "print(\"Transpose: \"+str((D.dot(E))))\n",
    "print(\"Determinant: \"+ str(np.linalg.det(D.dot(E))))"
   ]
  },
  {
   "cell_type": "markdown",
   "id": "a5c30d44-a2a0-46c8-8f4a-b70389f14fb9",
   "metadata": {},
   "source": [
    "## Practice no. 5"
   ]
  },
  {
   "cell_type": "code",
   "execution_count": 64,
   "id": "4b8fcd6a-be9f-4f84-a793-8f78600b802f",
   "metadata": {},
   "outputs": [
    {
     "data": {
      "text/plain": [
       "(array([[0.61229205, 0.43739227, 0.3870848 ],\n",
       "        [0.43739227, 0.47239343, 0.46917966],\n",
       "        [0.3870848 , 0.46917966, 0.32262729]]),\n",
       " True)"
      ]
     },
     "execution_count": 64,
     "metadata": {},
     "output_type": "execute_result"
    }
   ],
   "source": [
    "random_matrix = np.random.rand(3, 3)\n",
    "symmetric_matrix = (random_matrix + random_matrix.T) / 2\n",
    "is_symmetric = np.allclose(symmetric_matrix, symmetric_matrix.T)\n",
    "symmetric_matrix, is_symmetric\n"
   ]
  },
  {
   "cell_type": "code",
   "execution_count": null,
   "id": "5faf56bb-cb24-46a8-92cc-58d8f288dfa7",
   "metadata": {},
   "outputs": [],
   "source": []
  }
 ],
 "metadata": {
  "kernelspec": {
   "display_name": "Python 3 (ipykernel)",
   "language": "python",
   "name": "python3"
  },
  "language_info": {
   "codemirror_mode": {
    "name": "ipython",
    "version": 3
   },
   "file_extension": ".py",
   "mimetype": "text/x-python",
   "name": "python",
   "nbconvert_exporter": "python",
   "pygments_lexer": "ipython3",
   "version": "3.12.4"
  }
 },
 "nbformat": 4,
 "nbformat_minor": 5
}
