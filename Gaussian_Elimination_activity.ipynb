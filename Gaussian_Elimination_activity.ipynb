{
  "nbformat": 4,
  "nbformat_minor": 0,
  "metadata": {
    "colab": {
      "provenance": []
    },
    "kernelspec": {
      "name": "python3",
      "display_name": "Python 3"
    },
    "language_info": {
      "name": "python"
    }
  },
  "cells": [
    {
      "cell_type": "markdown",
      "source": [
        "## Problem 1"
      ],
      "metadata": {
        "id": "fAlp9pFE7nyk"
      }
    },
    {
      "cell_type": "code",
      "source": [
        "import numpy as np\n",
        "\n",
        "# Function to perform Naive Gaussian elimination\n",
        "def naive_gaussian_elimination(A):\n",
        "    n = len(A)\n",
        "    # Forward elimination\n",
        "    for i in range(n):\n",
        "        for j in range(i + 1, n):\n",
        "            # Calculate the factor for elimination\n",
        "            factor = A[j][i] / A[i][i]\n",
        "            # Eliminate the variable from row j\n",
        "            A[j] -= factor * A[i]\n",
        "    return A\n",
        "\n",
        "# Coefficient matrix A1\n",
        "A1 = np.array([[4, 1, -1, -2],\n",
        "               [5, 1, 2, 4],\n",
        "               [6, 1, 1, 6]], dtype=float)\n",
        "\n",
        "# Apply Naive Gaussian elimination to reduce the matrix\n",
        "reduced_A1 = naive_gaussian_elimination(A1.copy())\n",
        "\n",
        "# Perform back substitution to solve for the variables\n",
        "n = A1.shape[0]\n",
        "x = np.zeros(n)\n",
        "for i in range(n - 1, -1, -1):\n",
        "    # Back substitution to solve for the current variable\n",
        "    x[i] = (A1[i][-1] - np.dot(A1[i][i + 1:n], x[i + 1:n])) / A1[i][i]\n",
        "\n",
        "# Print the reduced matrix and the solution vector\n",
        "print(\"Reduced matrix after Naive Gaussian elimination:\")\n",
        "print(reduced_A1)\n",
        "print(\"Solution vector:\")\n",
        "print(x)\n"
      ],
      "metadata": {
        "colab": {
          "base_uri": "https://localhost:8080/"
        },
        "id": "9WoeTPD0qBJ-",
        "outputId": "03e464d0-cf6f-432d-d5e5-2936e7cb30ce"
      },
      "execution_count": 34,
      "outputs": [
        {
          "output_type": "stream",
          "name": "stdout",
          "text": [
            "Reduced matrix after Naive Gaussian elimination:\n",
            "[[ 4.    1.   -1.   -2.  ]\n",
            " [ 0.   -0.25  3.25  6.5 ]\n",
            " [ 0.    0.   -4.   -4.  ]]\n",
            "Solution vector:\n",
            "[ 3. -8.  6.]\n"
          ]
        }
      ]
    },
    {
      "cell_type": "markdown",
      "source": [
        "## Problem 2"
      ],
      "metadata": {
        "id": "tGU3rCTi7tWS"
      }
    },
    {
      "cell_type": "code",
      "source": [
        "\n",
        "\n",
        "# Function to perform Naive Gauss elimination with chopping\n",
        "def naive_gauss_elimination_with_chopping(matrix):\n",
        "    n = len(matrix)\n",
        "\n",
        "    # Forward elimination with chopping to 4 significant digits\n",
        "    for i in range(n):\n",
        "        for j in range(i + 1, n):\n",
        "            factor = np.round(matrix[j][i] / matrix[i][i], 4)  # Chopping to 4 significant digits\n",
        "            matrix[j] = matrix[j] - factor * matrix[i]\n",
        "\n",
        "    return matrix\n",
        "\n",
        "# Define the augmented coefficient matrix\n",
        "augmented_matrix = np.array([[4, 1, -1, -2],\n",
        "                             [5, 1, 2, 4],\n",
        "                             [6, 1, 1, 6]], dtype=float)\n",
        "\n",
        "# Perform Naive Gauss elimination with chopping\n",
        "upper_triangular_matrix = naive_gauss_elimination_with_chopping(augmented_matrix.copy())\n",
        "\n",
        "# Back substitution to compute the solution vector\n",
        "n = len(augmented_matrix)\n",
        "solution_vector = np.zeros(n)\n",
        "for i in range(n - 1, -1, -1):\n",
        "    solution_vector[i] = (augmented_matrix[i][-1] - np.dot(augmented_matrix[i][i+1:n], solution_vector[i+1:n])) / augmented_matrix[i][i]\n",
        "\n",
        "# Output the reduced matrix and the solution\n",
        "print(\"Reduced upper triangular matrix after Naive Gauss elimination:\")\n",
        "print(upper_triangular_matrix)\n",
        "print(\"Solution vector:\")\n",
        "print(solution_vector)\n"
      ],
      "metadata": {
        "colab": {
          "base_uri": "https://localhost:8080/"
        },
        "id": "qFaGmZXLqKpJ",
        "outputId": "77ad88e8-14c8-4f4a-cab7-bebba2cfc0ad"
      },
      "execution_count": 35,
      "outputs": [
        {
          "output_type": "stream",
          "name": "stdout",
          "text": [
            "Reduced upper triangular matrix after Naive Gauss elimination:\n",
            "[[ 4.    1.   -1.   -2.  ]\n",
            " [ 0.   -0.25  3.25  6.5 ]\n",
            " [ 0.    0.   -4.   -4.  ]]\n",
            "Solution vector:\n",
            "[ 3. -8.  6.]\n"
          ]
        }
      ]
    },
    {
      "cell_type": "markdown",
      "source": [
        "## Problem 3"
      ],
      "metadata": {
        "id": "KA-rKMHg7vuE"
      }
    },
    {
      "cell_type": "code",
      "source": [
        "# Function to compute the determinant using forward elimination\n",
        "def compute_determinant_with_forward_elimination(matrix):\n",
        "    n = len(matrix)\n",
        "\n",
        "    # Perform forward elimination to convert the matrix to upper triangular form\n",
        "    for i in range(n):\n",
        "        for j in range(i + 1, n):\n",
        "            # Compute the elimination factor for row reduction\n",
        "            factor = matrix[j, i] / matrix[i, i]\n",
        "\n",
        "            # Subtract the factor times the current row from the lower rows\n",
        "            matrix[j] -= factor * matrix[i]\n",
        "\n",
        "    # The determinant is the product of the diagonal elements of the upper triangular matrix\n",
        "    determinant = 1\n",
        "    for i in range(n):\n",
        "        determinant *= matrix[i, i]\n",
        "\n",
        "    return determinant\n",
        "\n",
        "# Define the coefficient matrix A3\n",
        "A3 = np.array([[10, -7, 0],\n",
        "               [-3, 2.099, 6],\n",
        "               [5, -1, 5]], dtype=float)\n",
        "\n",
        "# Compute the determinant of A3 using forward elimination\n",
        "determinant_A3 = compute_determinant_with_forward_elimination(A3.copy())\n",
        "\n",
        "# Display the computed determinant\n",
        "determinant_A3\n"
      ],
      "metadata": {
        "colab": {
          "base_uri": "https://localhost:8080/"
        },
        "id": "-Jzentqo4TPc",
        "outputId": "ea8de261-58d9-45d5-a66e-731c19e70b7e"
      },
      "execution_count": 36,
      "outputs": [
        {
          "output_type": "execute_result",
          "data": {
            "text/plain": [
              "-150.04999999999998"
            ]
          },
          "metadata": {},
          "execution_count": 36
        }
      ]
    },
    {
      "cell_type": "markdown",
      "source": [
        "## Problem 4"
      ],
      "metadata": {
        "id": "SlrNVyPO7yVz"
      }
    },
    {
      "cell_type": "code",
      "source": [
        "# Given reduced triangular matrix A4 after forward elimination\n",
        "A4_reduced = np.array([[25, 5, 1],\n",
        "                       [0, -4.8, -1.56],\n",
        "                       [0, 0, 0.7]], dtype=float)\n",
        "\n",
        "# Function to compute the determinant of a triangular matrix\n",
        "def compute_determinant_triangular(matrix):\n",
        "    determinant = 1\n",
        "    # Multiply the diagonal elements to find the determinant\n",
        "    for i in range(len(matrix)):\n",
        "        determinant *= matrix[i][i]\n",
        "    return determinant\n",
        "\n",
        "# Calculate the determinant of the reduced matrix A4\n",
        "determinant_A4 = compute_determinant_triangular(A4_reduced)\n",
        "\n",
        "# Print the determinant\n",
        "determinant_A4\n"
      ],
      "metadata": {
        "colab": {
          "base_uri": "https://localhost:8080/"
        },
        "id": "pZ4ewM104o5v",
        "outputId": "870f9874-0f04-4157-b026-f6b6287cbd59"
      },
      "execution_count": 37,
      "outputs": [
        {
          "output_type": "execute_result",
          "data": {
            "text/plain": [
              "-84.0"
            ]
          },
          "metadata": {},
          "execution_count": 37
        }
      ]
    },
    {
      "cell_type": "markdown",
      "source": [
        "## Problem 5"
      ],
      "metadata": {
        "id": "c7zYqEwq70LS"
      }
    },
    {
      "cell_type": "code",
      "source": [
        "def gaussian_elimination_with_partial_pivoting(A):\n",
        "    n = len(A)  # Get the number of rows\n",
        "    # Forward elimination with partial pivoting\n",
        "    for i in range(n):\n",
        "        # Find the row with the largest absolute value in column i for pivoting\n",
        "        max_row_index = np.argmax(np.abs(A[i:n, i])) + i\n",
        "        # Swap the current row with the row having the maximum pivot element\n",
        "        A[[i, max_row_index]] = A[[max_row_index, i]]\n",
        "\n",
        "        # Eliminate the entries below the pivot element in column i\n",
        "        for j in range(i + 1, n):\n",
        "            factor = A[j, i] / A[i, i]\n",
        "            A[j] = A[j] - factor * A[i]\n",
        "\n",
        "    return A\n",
        "\n",
        "def back_substitution(A):\n",
        "    n = len(A)\n",
        "    x = np.zeros(n)\n",
        "\n",
        "    # Start from the last row and go upwards to perform back substitution\n",
        "    for i in range(n-1, -1, -1):\n",
        "        x[i] = (A[i, -1] - np.dot(A[i, i+1:n], x[i+1:n])) / A[i, i]\n",
        "\n",
        "    return x\n",
        "\n",
        "# Example augmented matrix (4x4 matrix with the last column as the right-hand side)\n",
        "A5 = np.array([[4, 1, -1, -2],\n",
        "               [5, 1, 2, 4],\n",
        "               [6, 1, 1, 6]], dtype=float)\n",
        "\n",
        "# Perform Gaussian elimination with partial pivoting\n",
        "reduced_A5 = gaussian_elimination_with_partial_pivoting(A5.copy())\n",
        "\n",
        "# Solve the system using back substitution\n",
        "solution = back_substitution(reduced_A5)\n",
        "\n",
        "# Output the reduced matrix and the solution\n",
        "print(\"Reduced matrix after Gaussian elimination with partial pivoting:\")\n",
        "print(reduced_A5)\n",
        "print(\"Solution vector:\")\n",
        "print(solution)"
      ],
      "metadata": {
        "colab": {
          "base_uri": "https://localhost:8080/"
        },
        "id": "WlJhW6IF4x8g",
        "outputId": "82ada169-64af-43be-fffc-984d7d33d788"
      },
      "execution_count": 38,
      "outputs": [
        {
          "output_type": "stream",
          "name": "stdout",
          "text": [
            "Reduced matrix after Gaussian elimination with partial pivoting:\n",
            "[[ 6.          1.          1.          6.        ]\n",
            " [ 0.          0.33333333 -1.66666667 -6.        ]\n",
            " [ 0.          0.          2.          2.        ]]\n",
            "Solution vector:\n",
            "[  3. -13.   1.]\n"
          ]
        }
      ]
    },
    {
      "cell_type": "markdown",
      "source": [
        "## Problem 6"
      ],
      "metadata": {
        "id": "goP7QKie73CE"
      }
    },
    {
      "cell_type": "code",
      "source": [
        "# Function to perform Gaussian elimination with partial pivoting and chopping to four significant digits\n",
        "def gaussian_elimination_with_pivoting_chopping(A):\n",
        "    n = len(A)\n",
        "\n",
        "    # Perform forward elimination with partial pivoting\n",
        "    for i in range(n):\n",
        "        # Find the row with the largest absolute value in column i for pivoting\n",
        "        max_row_index = np.argmax(np.abs(A[i:n, i])) + i\n",
        "        A[[i, max_row_index]] = A[[max_row_index, i]]  # Swap the rows\n",
        "\n",
        "        # Eliminate elements below the pivot\n",
        "        for j in range(i + 1, n):\n",
        "            # Compute the factor to eliminate the variable and chop to four significant digits\n",
        "            factor = np.round(A[j][i] / A[i][i], 4)\n",
        "            A[j] -= factor * A[i]  # Update row j\n",
        "    return A\n",
        "\n",
        "# Coefficient matrix for the system of equations\n",
        "A = np.array([[4 , 1 , -1 , -2],\n",
        "              [5 , 1 , 2 , 4],\n",
        "              [6 , 1 , 1 , 6]], dtype=float)\n",
        "\n",
        "# Perform Gaussian elimination with partial pivoting and chopping\n",
        "reduced_matrix = gaussian_elimination_with_pivoting_chopping(A.copy())\n",
        "\n",
        "# Back substitution to solve for the variables\n",
        "n = len(A)\n",
        "solution = np.zeros(n)\n",
        "for i in range(n-1, -1, -1):\n",
        "    solution[i] = (reduced_matrix[i][-1] - np.dot(reduced_matrix[i][i+1:n], solution[i+1:n])) / reduced_matrix[i][i]\n",
        "\n",
        "# Output the reduced matrix and the solution vector\n",
        "print(\"Reduced matrix after Gaussian elimination with partial pivoting:\")\n",
        "print(reduced_matrix)\n",
        "print(\"Solution vector:\")\n",
        "print(solution)\n",
        "\n"
      ],
      "metadata": {
        "colab": {
          "base_uri": "https://localhost:8080/"
        },
        "id": "_ovGNyKX7PvX",
        "outputId": "4dbcee32-8053-4a25-843d-f1a5c30725e5"
      },
      "execution_count": 39,
      "outputs": [
        {
          "output_type": "stream",
          "name": "stdout",
          "text": [
            "Reduced matrix after Gaussian elimination with partial pivoting:\n",
            "[[ 6.00000000e+00  1.00000000e+00  1.00000000e+00  6.00000000e+00]\n",
            " [-2.00000000e-04  3.33300000e-01 -1.66670000e+00 -6.00020000e+00]\n",
            " [ 3.00040000e-04 -1.66600000e-05  2.00038334e+00  2.00150004e+00]]\n",
            "Solution vector:\n",
            "[  2.99974173 -12.99900863   1.00055824]\n"
          ]
        }
      ]
    },
    {
      "cell_type": "markdown",
      "source": [],
      "metadata": {
        "id": "LXY9RrBC7crb"
      }
    }
  ]
}