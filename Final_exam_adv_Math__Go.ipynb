{
  "nbformat": 4,
  "nbformat_minor": 0,
  "metadata": {
    "colab": {
      "provenance": []
    },
    "kernelspec": {
      "name": "python3",
      "display_name": "Python 3"
    },
    "language_info": {
      "name": "python"
    }
  },
  "cells": [
    {
      "cell_type": "code",
      "execution_count": null,
      "metadata": {
        "colab": {
          "base_uri": "https://localhost:8080/"
        },
        "id": "2fHjqdnco7cm",
        "outputId": "79af19e2-9a29-46fa-c12a-da603059cec0"
      },
      "outputs": [
        {
          "output_type": "stream",
          "name": "stdout",
          "text": [
            "Generated 3x4 Matrix:\n",
            "[[ 2  9 18 16]\n",
            " [ 6 19  5  7]\n",
            " [14  7 14  6]]\n",
            "\n",
            "Coefficient Matrix (A):\n",
            "[[ 2  9 18]\n",
            " [ 6 19  5]\n",
            " [14  7 14]]\n",
            "\n",
            "Right-hand Side Vector (b):\n",
            "[16  7  6]\n"
          ]
        }
      ],
      "source": [
        "import numpy as np\n",
        "\n",
        "# Step 1: Generate a 3x4 random matrix\n",
        "matrix_3x4 = np.random.randint(1, 21, size=(3, 4))  # Adjust range as needed\n",
        "A = matrix_3x4[:, :3]  # Coefficient matrix (first 3 columns)\n",
        "b = matrix_3x4[:, 3]   # Right-hand side vector (last column)\n",
        "\n",
        "print(\"Generated 3x4 Matrix:\")\n",
        "print(matrix_3x4)\n",
        "print(\"\\nCoefficient Matrix (A):\")\n",
        "print(A)\n",
        "print(\"\\nRight-hand Side Vector (b):\")\n",
        "print(b)"
      ]
    },
    {
      "cell_type": "markdown",
      "source": [
        "1. Find the determinant of A, if it is 0 then we cannot solve for x"
      ],
      "metadata": {
        "id": "Gv4efLNLw9Qs"
      }
    },
    {
      "cell_type": "code",
      "source": [
        "determinant_A = np.linalg.det(A)\n",
        "\n",
        "print(\"\\nDeterminant of matrix A:\")\n",
        "determinant_A"
      ],
      "metadata": {
        "id": "3dNTvh4gvro9",
        "colab": {
          "base_uri": "https://localhost:8080/"
        },
        "outputId": "64404c3b-edff-45ea-9eeb-894617bcf733"
      },
      "execution_count": 3,
      "outputs": [
        {
          "output_type": "stream",
          "name": "stdout",
          "text": [
            "\n",
            "Determinant of matrix A:\n"
          ]
        },
        {
          "output_type": "execute_result",
          "data": {
            "text/plain": [
              "-3696.0"
            ]
          },
          "metadata": {},
          "execution_count": 3
        }
      ]
    },
    {
      "cell_type": "markdown",
      "source": [
        "2. Since det(A)!=0 is true then we can invert the matrix A"
      ],
      "metadata": {
        "id": "3OF6acKY2-t8"
      }
    },
    {
      "cell_type": "code",
      "source": [
        "x = np.linalg .inv(A)\n",
        "print(\"\\nSolution for inversed A:\")\n",
        "x"
      ],
      "metadata": {
        "colab": {
          "base_uri": "https://localhost:8080/"
        },
        "id": "8V6eKWuT20ef",
        "outputId": "c06d4e7d-f310-4714-9ef4-959633fc0934"
      },
      "execution_count": 6,
      "outputs": [
        {
          "output_type": "stream",
          "name": "stdout",
          "text": [
            "\n",
            "Solution for inversed A:\n"
          ]
        },
        {
          "output_type": "execute_result",
          "data": {
            "text/plain": [
              "array([[-0.0625    ,  0.        ,  0.08035714],\n",
              "       [ 0.00378788,  0.06060606, -0.02651515],\n",
              "       [ 0.06060606, -0.03030303,  0.004329  ]])"
            ]
          },
          "metadata": {},
          "execution_count": 6
        }
      ]
    },
    {
      "cell_type": "markdown",
      "source": [
        "Solution of X"
      ],
      "metadata": {
        "id": "NFuV3WafM_s0"
      }
    },
    {
      "cell_type": "code",
      "source": [
        "x = np.linalg.inv(A).dot(b)\n",
        "print(\"\\nSolution for x:\")\n",
        "print(x)\n"
      ],
      "metadata": {
        "colab": {
          "base_uri": "https://localhost:8080/"
        },
        "id": "0fYuBY_m3QGl",
        "outputId": "a090d48f-8dd3-412c-df50-1f92243754ab"
      },
      "execution_count": 8,
      "outputs": [
        {
          "output_type": "stream",
          "name": "stdout",
          "text": [
            "\n",
            "Solution for x:\n",
            "[-0.51785714  0.32575758  0.78354978]\n"
          ]
        }
      ]
    },
    {
      "cell_type": "code",
      "source": [
        "# Solve using Gaussian Elimination\n",
        "x_gaussian = np.linalg.solve(A, b)  # Direct Gaussian elimination\n",
        "print(\"\\nSolution using Gaussian Elimination (NumPy):\")\n",
        "print(x_gaussian)\n",
        "\n",
        "# Verify the solution\n",
        "b_check = np.dot(A, x_gaussian)  # Recompute b using A and the computed x\n",
        "print(\"\\nVerification (Ax = b):\")\n",
        "print(b_check)"
      ],
      "metadata": {
        "colab": {
          "base_uri": "https://localhost:8080/"
        },
        "id": "W0V13k6YNOfI",
        "outputId": "6cdab807-8479-4305-8de6-9a75eecbfba5"
      },
      "execution_count": 9,
      "outputs": [
        {
          "output_type": "stream",
          "name": "stdout",
          "text": [
            "\n",
            "Solution using Gaussian Elimination (NumPy):\n",
            "[-0.51785714  0.32575758  0.78354978]\n",
            "\n",
            "Verification (Ax = b):\n",
            "[16.  7.  6.]\n"
          ]
        }
      ]
    },
    {
      "cell_type": "code",
      "source": [],
      "metadata": {
        "id": "DFl3InEeW8jn"
      },
      "execution_count": null,
      "outputs": []
    }
  ]
}